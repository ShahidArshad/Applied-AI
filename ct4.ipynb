{
 "cells": [
  {
   "cell_type": "markdown",
   "id": "1a4540f5",
   "metadata": {},
   "source": [
    "# how to assign string values in variable"
   ]
  },
  {
   "cell_type": "code",
   "execution_count": 3,
   "id": "61a009a9",
   "metadata": {},
   "outputs": [
    {
     "name": "stdout",
     "output_type": "stream",
     "text": [
      "shahid <class 'str'>\n"
     ]
    }
   ],
   "source": [
    "name = \"shahid\"\n",
    "print(name,type(name))"
   ]
  },
  {
   "cell_type": "code",
   "execution_count": 4,
   "id": "58f1b288",
   "metadata": {},
   "outputs": [
    {
     "name": "stdout",
     "output_type": "stream",
     "text": [
      "shahid <class 'str'>\n"
     ]
    }
   ],
   "source": [
    "name ='shahid'\n",
    "print(name,type(name))"
   ]
  },
  {
   "cell_type": "code",
   "execution_count": 28,
   "id": "32c27195",
   "metadata": {},
   "outputs": [
    {
     "data": {
      "text/plain": [
       "'       name:shahid\\nfather Name:Muhammad arshad\\nBatch:36-37       '"
      ]
     },
     "execution_count": 28,
     "metadata": {},
     "output_type": "execute_result"
    }
   ],
   "source": [
    "data = 'name:shahid\\nfather Name:Muhammad arshad\\nBatch:36-37'\n",
    "data.center(65)"
   ]
  },
  {
   "cell_type": "code",
   "execution_count": 10,
   "id": "afd5ebdc",
   "metadata": {},
   "outputs": [
    {
     "name": "stdout",
     "output_type": "stream",
     "text": [
      "\n",
      "Name :             shahid\n",
      "fathers name:      arshad\n",
      "batch:             36-37\n",
      "\n"
     ]
    }
   ],
   "source": [
    "#tripe single quote or triple double quote define multiline string\n",
    "data=\"\"\"\n",
    "Name :             shahid\n",
    "fathers name:      arshad\n",
    "batch:             36-37\n",
    "\"\"\"\n",
    "print(data)"
   ]
  },
  {
   "cell_type": "code",
   "execution_count": 13,
   "id": "8c61e28d",
   "metadata": {},
   "outputs": [
    {
     "name": "stdout",
     "output_type": "stream",
     "text": [
      "PIAIC\"  says \"Pakistan zindabad\n"
     ]
    }
   ],
   "source": [
    "data = \"PIAIC\\\"  says \\\"Pakistan zindabad\"\n",
    "print(data)"
   ]
  },
  {
   "cell_type": "code",
   "execution_count": 14,
   "id": "539f2db5",
   "metadata": {},
   "outputs": [
    {
     "data": {
      "text/plain": [
       "'\\nName :             shahid\\nfathers name:      arshad\\nbatch:             36-37\\n'"
      ]
     },
     "execution_count": 14,
     "metadata": {},
     "output_type": "execute_result"
    }
   ],
   "source": [
    "data=\"\"\"\n",
    "Name :             shahid\n",
    "fathers name:      arshad\n",
    "batch:             36-37\n",
    "\"\"\"\n",
    "data"
   ]
  },
  {
   "cell_type": "code",
   "execution_count": 15,
   "id": "451a0701",
   "metadata": {},
   "outputs": [
    {
     "data": {
      "text/plain": [
       "'c'"
      ]
     },
     "execution_count": 15,
     "metadata": {},
     "output_type": "execute_result"
    }
   ],
   "source": [
    "#jupiter cell always returns last line \n",
    "\"a\"\n",
    "\"b\"\n",
    "'c'"
   ]
  },
  {
   "cell_type": "code",
   "execution_count": 16,
   "id": "29fada25",
   "metadata": {},
   "outputs": [
    {
     "name": "stdout",
     "output_type": "stream",
     "text": [
      "c\n"
     ]
    }
   ],
   "source": [
    "\"a\"\n",
    "\"b\"\n",
    "print('c')"
   ]
  },
  {
   "cell_type": "markdown",
   "id": "0a2e4400",
   "metadata": {},
   "source": [
    "# concatination (combine two or more values and variables) text formation"
   ]
  },
  {
   "cell_type": "code",
   "execution_count": 20,
   "id": "5d3f3496",
   "metadata": {},
   "outputs": [
    {
     "name": "stdout",
     "output_type": "stream",
     "text": [
      "shahidarshadMscchemist\n"
     ]
    }
   ],
   "source": [
    "name=\"shahid\"\n",
    "father_name=\"arshad\"\n",
    "education=\"Msc\"\n",
    "designation=\"chemist\"\n",
    "print(name+father_name+education+designation)"
   ]
  },
  {
   "cell_type": "code",
   "execution_count": 21,
   "id": "2312cf25",
   "metadata": {},
   "outputs": [
    {
     "name": "stdout",
     "output_type": "stream",
     "text": [
      "shahid arshad Msc chemist\n"
     ]
    }
   ],
   "source": [
    "name=\"shahid\"\n",
    "father_name=\"arshad\"\n",
    "education=\"Msc\"\n",
    "designation=\"chemist\"\n",
    "print(name,father_name,education,designation)"
   ]
  },
  {
   "cell_type": "code",
   "execution_count": 22,
   "id": "6eaa3801",
   "metadata": {},
   "outputs": [
    {
     "name": "stdout",
     "output_type": "stream",
     "text": [
      "shahid\n",
      "arshad\n",
      "Msc\n",
      "chemist\n"
     ]
    }
   ],
   "source": [
    "name=\"shahid\"\n",
    "father_name=\"arshad\"\n",
    "education=\"Msc\"\n",
    "designation=\"chemist\"\n",
    "print(name,father_name,education,designation, sep=\"\\n\")"
   ]
  },
  {
   "cell_type": "code",
   "execution_count": 30,
   "id": "ecffa75a",
   "metadata": {},
   "outputs": [
    {
     "name": "stdout",
     "output_type": "stream",
     "text": [
      "PIAIC Teacher Card\n",
      "Name:shahid\n",
      "Father's Name:arshad\n",
      "Education:Msc\n",
      "Designation:chemist\n",
      "Height:5.11\n"
     ]
    }
   ],
   "source": [
    "name=\"shahid\"\n",
    "father_name=\"arshad\"\n",
    "education=\"Msc\"\n",
    "designation=\"chemist\"\n",
    "height=5.11\n",
    "result=\"PIAIC Teacher Card\\nName:\" + name +\"\\nFather's Name:\" + father_name+\"\\nEducation:\"+education+\"\\nDesignation:\"+designation +\"\\nHeight:\"+str(height)\n",
    "print(result)"
   ]
  },
  {
   "cell_type": "code",
   "execution_count": 39,
   "id": "0e942936",
   "metadata": {},
   "outputs": [
    {
     "name": "stdout",
     "output_type": "stream",
     "text": [
      "\n",
      "PIAIC Teacher Card\n",
      " Name: shahid\n",
      " Father's Name: arshad\n",
      " Education: Msc\n",
      " Designation: chemist\n",
      " Height:5.11\n",
      "\n"
     ]
    }
   ],
   "source": [
    "name=\"shahid\"\n",
    "father_name=\"arshad\"\n",
    "education=\"Msc\"\n",
    "designation=\"chemist\"\n",
    "height=5.11\n",
    "\n",
    "data = \"\"\"\n",
    "PIAIC Teacher Card\n",
    " Name: {4}\n",
    " Father's Name: {0}\n",
    " Education: {2}\n",
    " Designation: {3}\n",
    " Height:{1}\n",
    "\"\"\".format(father_name,height,education,designation,name)\n",
    "print(data)"
   ]
  },
  {
   "cell_type": "code",
   "execution_count": 41,
   "id": "a12acf78",
   "metadata": {},
   "outputs": [
    {
     "name": "stdout",
     "output_type": "stream",
     "text": [
      "\n",
      "PIAIC Teacher Card\n",
      " Name: shahid\n",
      " Father's Name: arshad\n",
      " Education: Msc\n",
      " Designation: chemist\n",
      " Height:5.11\n",
      "\n"
     ]
    }
   ],
   "source": [
    "name=\"shahid\"\n",
    "father_name=\"arshad\"\n",
    "education=\"Msc\"\n",
    "designation=\"chemist\"\n",
    "height=5.11\n",
    "\n",
    "data = f\"\"\"\n",
    "PIAIC Teacher Card\n",
    " Name: {name}\n",
    " Father's Name: {father_name}\n",
    " Education: {education}\n",
    " Designation: {designation}\n",
    " Height:{height}\n",
    "\"\"\"\n",
    "\n",
    "\n",
    "print(data)"
   ]
  },
  {
   "cell_type": "code",
   "execution_count": 31,
   "id": "a796a792",
   "metadata": {},
   "outputs": [
    {
     "name": "stdout",
     "output_type": "stream",
     "text": [
      "Name:Shahid\n",
      "Fathers Name:Arshad\n",
      "Education:Msc\n",
      "Dsignation:Chemist\n",
      "Heighr:5.10\n",
      "Shahid Arshad Msc Chemist 5.10\n"
     ]
    }
   ],
   "source": [
    "name=input(\"Name:\")\n",
    "father_name=input(\"Fathers Name:\")\n",
    "education=input(\"Education:\")\n",
    "designation=input(\"Dsignation:\")\n",
    "height=input(\"Heighr:\")\n",
    "\n",
    "print(name,father_name,education,designation,height)"
   ]
  },
  {
   "cell_type": "markdown",
   "id": "deac2a00",
   "metadata": {},
   "source": [
    "# string meathod "
   ]
  },
  {
   "cell_type": "code",
   "execution_count": 5,
   "id": "18e44622",
   "metadata": {},
   "outputs": [
    {
     "data": {
      "text/plain": [
       "'shahid'"
      ]
     },
     "execution_count": 5,
     "metadata": {},
     "output_type": "execute_result"
    }
   ],
   "source": [
    "name=\"shahid\"\n",
    "name.casefold()"
   ]
  },
  {
   "cell_type": "code",
   "execution_count": 46,
   "id": "e9ee47ac",
   "metadata": {},
   "outputs": [
    {
     "data": {
      "text/plain": [
       "'                              shahid                             '"
      ]
     },
     "execution_count": 46,
     "metadata": {},
     "output_type": "execute_result"
    }
   ],
   "source": [
    "name=\"shahid\"\n",
    "name.center(65)"
   ]
  },
  {
   "cell_type": "code",
   "execution_count": 47,
   "id": "b6860f74",
   "metadata": {},
   "outputs": [
    {
     "data": {
      "text/plain": [
       "'shahid'"
      ]
     },
     "execution_count": 47,
     "metadata": {},
     "output_type": "execute_result"
    }
   ],
   "source": [
    "name=\"shahid\"\n",
    "name.center(2)"
   ]
  },
  {
   "cell_type": "code",
   "execution_count": 50,
   "id": "810929e4",
   "metadata": {},
   "outputs": [
    {
     "data": {
      "text/plain": [
       "b'\\xff\\xfes\\x00h\\x00a\\x00h\\x00i\\x00d\\x00'"
      ]
     },
     "execution_count": 50,
     "metadata": {},
     "output_type": "execute_result"
    }
   ],
   "source": [
    "name=\"shahid\"\n",
    "name.encode('utf-16')"
   ]
  },
  {
   "cell_type": "code",
   "execution_count": 56,
   "id": "818c98e2",
   "metadata": {},
   "outputs": [
    {
     "data": {
      "text/plain": [
       "False"
      ]
     },
     "execution_count": 56,
     "metadata": {},
     "output_type": "execute_result"
    }
   ],
   "source": [
    "name=\"shahid\"\n",
    "name.endswith('s')"
   ]
  },
  {
   "cell_type": "code",
   "execution_count": 57,
   "id": "fea7cd3b",
   "metadata": {},
   "outputs": [
    {
     "data": {
      "text/plain": [
       "True"
      ]
     },
     "execution_count": 57,
     "metadata": {},
     "output_type": "execute_result"
    }
   ],
   "source": [
    "name=\"shahid\"\n",
    "name.startswith('s')"
   ]
  },
  {
   "cell_type": "code",
   "execution_count": 8,
   "id": "b405788d",
   "metadata": {},
   "outputs": [
    {
     "data": {
      "text/plain": [
       "'shahid'"
      ]
     },
     "execution_count": 8,
     "metadata": {},
     "output_type": "execute_result"
    }
   ],
   "source": [
    "name = \"shahid\"\n",
    "name.casefold()"
   ]
  },
  {
   "cell_type": "code",
   "execution_count": 13,
   "id": "759fd6d2",
   "metadata": {},
   "outputs": [
    {
     "data": {
      "text/plain": [
       "True"
      ]
     },
     "execution_count": 13,
     "metadata": {},
     "output_type": "execute_result"
    }
   ],
   "source": [
    "name = \"shahid\"\n",
    "name.casefold()==\"ShaHId\".casefold()"
   ]
  },
  {
   "cell_type": "code",
   "execution_count": 14,
   "id": "e5aae819",
   "metadata": {},
   "outputs": [
    {
     "name": "stdout",
     "output_type": "stream",
     "text": [
      "False\n"
     ]
    },
    {
     "data": {
      "text/plain": [
       "True"
      ]
     },
     "execution_count": 14,
     "metadata": {},
     "output_type": "execute_result"
    }
   ],
   "source": [
    "name = \"shahid\"\n",
    "print(\"shahid\"==\"SHAHid\")\n",
    "name.casefold()==\"ShaHId\".casefold()"
   ]
  },
  {
   "cell_type": "code",
   "execution_count": 16,
   "id": "b88a3583",
   "metadata": {},
   "outputs": [
    {
     "data": {
      "text/plain": [
       "'                      shahid                      '"
      ]
     },
     "execution_count": 16,
     "metadata": {},
     "output_type": "execute_result"
    }
   ],
   "source": [
    "name=\"shahid\"\n",
    "name.center(50)"
   ]
  },
  {
   "cell_type": "code",
   "execution_count": 22,
   "id": "c1add13d",
   "metadata": {},
   "outputs": [
    {
     "name": "stdout",
     "output_type": "stream",
     "text": [
      "\n",
      "Name :             shahid\n",
      "fathers name:      arshad\n",
      "batch:             36-37\n",
      "\n"
     ]
    }
   ],
   "source": [
    "data=\"\"\"\n",
    "Name :             shahid\n",
    "fathers name:      arshad\n",
    "batch:             36-37\n",
    "\"\"\"\n",
    "print(data)"
   ]
  },
  {
   "cell_type": "code",
   "execution_count": 32,
   "id": "e1caf86f",
   "metadata": {},
   "outputs": [
    {
     "data": {
      "text/plain": [
       "'       name:shahid\\nfather Name:Muhammad arshad\\nBatch:36-37       '"
      ]
     },
     "execution_count": 32,
     "metadata": {},
     "output_type": "execute_result"
    }
   ],
   "source": [
    "data.center(65)"
   ]
  },
  {
   "cell_type": "code",
   "execution_count": 34,
   "id": "7fdaf805",
   "metadata": {},
   "outputs": [
    {
     "data": {
      "text/plain": [
       "2"
      ]
     },
     "execution_count": 34,
     "metadata": {},
     "output_type": "execute_result"
    }
   ],
   "source": [
    "name=\"shahid\"\n",
    "name.count(\"shahid\")\n",
    "name.count(\"h\")"
   ]
  },
  {
   "cell_type": "code",
   "execution_count": 40,
   "id": "2acf24ec",
   "metadata": {},
   "outputs": [
    {
     "data": {
      "text/plain": [
       "'Shahid'"
      ]
     },
     "execution_count": 40,
     "metadata": {},
     "output_type": "execute_result"
    }
   ],
   "source": [
    "name=\"shahid\"\n",
    "name.capitalize()"
   ]
  },
  {
   "cell_type": "code",
   "execution_count": 42,
   "id": "3f18f168",
   "metadata": {},
   "outputs": [
    {
     "data": {
      "text/plain": [
       "b'\\xff\\xfes\\x00h\\x00a\\x00h\\x00i\\x00d\\x00'"
      ]
     },
     "execution_count": 42,
     "metadata": {},
     "output_type": "execute_result"
    }
   ],
   "source": [
    "name.encode(\"utf-16\")"
   ]
  },
  {
   "cell_type": "code",
   "execution_count": 47,
   "id": "5e5a8a36",
   "metadata": {},
   "outputs": [
    {
     "data": {
      "text/plain": [
       "True"
      ]
     },
     "execution_count": 47,
     "metadata": {},
     "output_type": "execute_result"
    }
   ],
   "source": [
    "name=\"shahid\"\n",
    "name.startswith(\"s\")"
   ]
  },
  {
   "cell_type": "code",
   "execution_count": 62,
   "id": "fa781596",
   "metadata": {},
   "outputs": [
    {
     "name": "stdout",
     "output_type": "stream",
     "text": [
      "\n",
      "name:\tshahid\n",
      "father:\tarshad\n",
      "edu :\tmsc\n",
      "\n"
     ]
    }
   ],
   "source": [
    "data=\"\"\"\n",
    "name:\\tshahid\n",
    "father:\\tarshad\n",
    "edu :\\tmsc\n",
    "\"\"\"\n",
    "print(data)"
   ]
  },
  {
   "cell_type": "code",
   "execution_count": 61,
   "id": "3603708e",
   "metadata": {},
   "outputs": [
    {
     "name": "stdout",
     "output_type": "stream",
     "text": [
      "\n",
      "name:     shahid\n",
      "father:   arshad\n",
      "edu :     msc\n",
      "\n"
     ]
    }
   ],
   "source": [
    "print(data.expandtabs(10))"
   ]
  },
  {
   "cell_type": "code",
   "execution_count": 77,
   "id": "1737172d",
   "metadata": {},
   "outputs": [
    {
     "name": "stdout",
     "output_type": "stream",
     "text": [
      "7\n"
     ]
    }
   ],
   "source": [
    "name=\"Shahid ali\"\n",
    "print(name.find(\"a\",6))"
   ]
  },
  {
   "cell_type": "code",
   "execution_count": 78,
   "id": "7938556e",
   "metadata": {},
   "outputs": [
    {
     "data": {
      "text/plain": [
       "'S'"
      ]
     },
     "execution_count": 78,
     "metadata": {},
     "output_type": "execute_result"
    }
   ],
   "source": [
    "name[0]"
   ]
  },
  {
   "cell_type": "code",
   "execution_count": 79,
   "id": "a1a4df81",
   "metadata": {},
   "outputs": [
    {
     "data": {
      "text/plain": [
       "'Shahid ali'"
      ]
     },
     "execution_count": 79,
     "metadata": {},
     "output_type": "execute_result"
    }
   ],
   "source": [
    "name[0:]"
   ]
  },
  {
   "cell_type": "code",
   "execution_count": 80,
   "id": "2b6b6738",
   "metadata": {},
   "outputs": [
    {
     "data": {
      "text/plain": [
       "'Shahid '"
      ]
     },
     "execution_count": 80,
     "metadata": {},
     "output_type": "execute_result"
    }
   ],
   "source": [
    "name[0:7]"
   ]
  },
  {
   "cell_type": "code",
   "execution_count": 81,
   "id": "f17a911e",
   "metadata": {},
   "outputs": [
    {
     "data": {
      "text/plain": [
       "'Shahid al'"
      ]
     },
     "execution_count": 81,
     "metadata": {},
     "output_type": "execute_result"
    }
   ],
   "source": [
    "name[0:9]"
   ]
  },
  {
   "cell_type": "code",
   "execution_count": 86,
   "id": "33b6a77b",
   "metadata": {},
   "outputs": [
    {
     "name": "stdout",
     "output_type": "stream",
     "text": [
      "name:shahid\n",
      "father:arshad\n"
     ]
    }
   ],
   "source": [
    "record={\n",
    "    \"x\":\"shahid\",\n",
    "    \"y\":\"arshad\"\n",
    "}\n",
    "print(\"name:{x}\\nfather:{y}\".format_map(record))"
   ]
  },
  {
   "cell_type": "code",
   "execution_count": 88,
   "id": "331147eb",
   "metadata": {},
   "outputs": [
    {
     "data": {
      "text/plain": [
       "2"
      ]
     },
     "execution_count": 88,
     "metadata": {},
     "output_type": "execute_result"
    }
   ],
   "source": [
    "name=\"shahid\"\n",
    "name.index('a')"
   ]
  },
  {
   "cell_type": "code",
   "execution_count": 3,
   "id": "0e0a5938",
   "metadata": {},
   "outputs": [
    {
     "data": {
      "text/plain": [
       "True"
      ]
     },
     "execution_count": 3,
     "metadata": {},
     "output_type": "execute_result"
    }
   ],
   "source": [
    "sh=\"shahid\"\n",
    "sh.isalpha()"
   ]
  },
  {
   "cell_type": "code",
   "execution_count": 5,
   "id": "0c66ce2d",
   "metadata": {},
   "outputs": [
    {
     "data": {
      "text/plain": [
       "False"
      ]
     },
     "execution_count": 5,
     "metadata": {},
     "output_type": "execute_result"
    }
   ],
   "source": [
    "sh=\"shahid\"\n",
    "sh.isdecimal()"
   ]
  },
  {
   "cell_type": "code",
   "execution_count": 6,
   "id": "d42aebd3",
   "metadata": {},
   "outputs": [
    {
     "data": {
      "text/plain": [
       "False"
      ]
     },
     "execution_count": 6,
     "metadata": {},
     "output_type": "execute_result"
    }
   ],
   "source": [
    "name=\"shahid\"\n",
    "name.isdigit()"
   ]
  },
  {
   "cell_type": "code",
   "execution_count": 7,
   "id": "c31a15f5",
   "metadata": {},
   "outputs": [
    {
     "data": {
      "text/plain": [
       "True"
      ]
     },
     "execution_count": 7,
     "metadata": {},
     "output_type": "execute_result"
    }
   ],
   "source": [
    "name=\"20\"\n",
    "name.isnumeric()"
   ]
  },
  {
   "cell_type": "code",
   "execution_count": 9,
   "id": "f04e3e2c",
   "metadata": {},
   "outputs": [
    {
     "data": {
      "text/plain": [
       "False"
      ]
     },
     "execution_count": 9,
     "metadata": {},
     "output_type": "execute_result"
    }
   ],
   "source": [
    "name=(\"AShahid\")\n",
    "name.islower()"
   ]
  },
  {
   "cell_type": "code",
   "execution_count": 10,
   "id": "be602e39",
   "metadata": {},
   "outputs": [
    {
     "data": {
      "text/plain": [
       "'shahid'"
      ]
     },
     "execution_count": 10,
     "metadata": {},
     "output_type": "execute_result"
    }
   ],
   "source": [
    "name='Shahid'\n",
    "name.lower()"
   ]
  },
  {
   "cell_type": "code",
   "execution_count": 11,
   "id": "69596ae0",
   "metadata": {},
   "outputs": [
    {
     "data": {
      "text/plain": [
       "'Shahid'"
      ]
     },
     "execution_count": 11,
     "metadata": {},
     "output_type": "execute_result"
    }
   ],
   "source": [
    "name=\"     Shahid\"\n",
    "name.lstrip()"
   ]
  },
  {
   "cell_type": "code",
   "execution_count": 12,
   "id": "09aa2bdc",
   "metadata": {},
   "outputs": [
    {
     "data": {
      "text/plain": [
       "'     Shahid'"
      ]
     },
     "execution_count": 12,
     "metadata": {},
     "output_type": "execute_result"
    }
   ],
   "source": [
    "name.rstrip()"
   ]
  },
  {
   "cell_type": "code",
   "execution_count": null,
   "id": "0609a6fd",
   "metadata": {},
   "outputs": [],
   "source": []
  },
  {
   "cell_type": "code",
   "execution_count": null,
   "id": "02e45815",
   "metadata": {},
   "outputs": [],
   "source": []
  }
 ],
 "metadata": {
  "kernelspec": {
   "display_name": "Python 3",
   "language": "python",
   "name": "python3"
  },
  "language_info": {
   "codemirror_mode": {
    "name": "ipython",
    "version": 3
   },
   "file_extension": ".py",
   "mimetype": "text/x-python",
   "name": "python",
   "nbconvert_exporter": "python",
   "pygments_lexer": "ipython3",
   "version": "3.8.8"
  }
 },
 "nbformat": 4,
 "nbformat_minor": 5
}
